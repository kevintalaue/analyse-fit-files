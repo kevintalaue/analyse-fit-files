{
 "cells": [
  {
   "cell_type": "code",
   "execution_count": 2,
   "metadata": {},
   "outputs": [
    {
     "ename": "ImportError",
     "evalue": "cannot import name 'sport_peak_curve' from 'analyse_fit_files.parse_fit_file' (/Users/kevin/repos/analyse-fit-files/env/src/analyse-fit-files/analyse_fit_files/parse_fit_file.py)",
     "output_type": "error",
     "traceback": [
      "\u001b[0;31m---------------------------------------------------------------------------\u001b[0m",
      "\u001b[0;31mImportError\u001b[0m                               Traceback (most recent call last)",
      "Cell \u001b[0;32mIn[2], line 1\u001b[0m\n\u001b[0;32m----> 1\u001b[0m \u001b[38;5;28;01mfrom\u001b[39;00m \u001b[38;5;21;01manalyse_fit_files\u001b[39;00m\u001b[38;5;21;01m.\u001b[39;00m\u001b[38;5;21;01mparse_fit_file\u001b[39;00m \u001b[38;5;28;01mimport\u001b[39;00m get_fit_file_data, sport_peak_curve\n\u001b[1;32m      2\u001b[0m \u001b[38;5;28;01mfrom\u001b[39;00m \u001b[38;5;21;01manalyse_fit_files\u001b[39;00m\u001b[38;5;21;01m.\u001b[39;00m\u001b[38;5;21;01mvisualize_fit_files\u001b[39;00m \u001b[38;5;28;01mimport\u001b[39;00m plot_sport_peak_curve\n",
      "\u001b[0;31mImportError\u001b[0m: cannot import name 'sport_peak_curve' from 'analyse_fit_files.parse_fit_file' (/Users/kevin/repos/analyse-fit-files/env/src/analyse-fit-files/analyse_fit_files/parse_fit_file.py)"
     ]
    }
   ],
   "source": [
    "from analyse_fit_files.parse_fit_file import get_fit_file_data, sport_peak_curve\n",
    "from analyse_fit_files.visualize_fit_files import plot_sport_peak_curve"
   ]
  },
  {
   "cell_type": "code",
   "execution_count": null,
   "metadata": {},
   "outputs": [],
   "source": [
    "ride = get_fit_file_data(\n",
    "    \"/Users/kevin/repos/analyse-fit-files/data/Zwift_-_Going_Coastal_in_Watopia.fit\"\n",
    ")\n",
    "cycling = sport_peak_curve(fit_file_dataframe=ride, sport=\"cycling\")"
   ]
  },
  {
   "cell_type": "code",
   "execution_count": null,
   "metadata": {},
   "outputs": [],
   "source": [
    "pace = get_fit_file_data(\n",
    "    \"/Users/kevin/repos/analyse-fit-files/data/Morning_Run_2024_04_04.fit\"\n",
    ")\n",
    "speed = sport_peak_curve(fit_file_dataframe=pace, sport=\"running\")\n",
    "\n",
    "secondary = False\n",
    "if secondary:\n",
    "    pace1 = get_fit_file_data(\n",
    "        \"/Users/kevin/repos/analyse-fit-files/data/Morning_Run_2024_01_25.fit\"\n",
    "    )\n",
    "    speed1 = sport_peak_curve(fit_file_dataframe=pace1, sport=\"running\")"
   ]
  },
  {
   "cell_type": "code",
   "execution_count": null,
   "metadata": {},
   "outputs": [],
   "source": [
    "plot_sport_peak_curve(primary_fitfile_dataframe=ride, primary_sport_peak_curve=cycling, secondary_fitfile_dataframe=None, secondary_sport_peak_curve=None, sport=\"cycling\")"
   ]
  },
  {
   "cell_type": "code",
   "execution_count": null,
   "metadata": {},
   "outputs": [],
   "source": []
  }
 ],
 "metadata": {
  "kernelspec": {
   "display_name": "Python 3.7.3 ('env': venv)",
   "language": "python",
   "name": "python3"
  },
  "language_info": {
   "codemirror_mode": {
    "name": "ipython",
    "version": 3
   },
   "file_extension": ".py",
   "mimetype": "text/x-python",
   "name": "python",
   "nbconvert_exporter": "python",
   "pygments_lexer": "ipython3",
   "version": "3.9.6"
  },
  "orig_nbformat": 4,
  "vscode": {
   "interpreter": {
    "hash": "b1aee2bcd3fab90d89ce093a4ccc19582af554f39aaabad44849be71cd216161"
   }
  }
 },
 "nbformat": 4,
 "nbformat_minor": 2
}
