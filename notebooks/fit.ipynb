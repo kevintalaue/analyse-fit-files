{
 "cells": [
  {
   "cell_type": "code",
   "execution_count": 1,
   "metadata": {},
   "outputs": [
    {
     "name": "stderr",
     "output_type": "stream",
     "text": [
      "/var/folders/jl/rprd_0wd5q3cqhg9wlpx09_00000gn/T/ipykernel_66559/235305407.py:1: DeprecationWarning: \n",
      "Pyarrow will become a required dependency of pandas in the next major release of pandas (pandas 3.0),\n",
      "(to allow more performant data types, such as the Arrow string type, and better interoperability with other libraries)\n",
      "but was not found to be installed on your system.\n",
      "If this would cause problems for you,\n",
      "please provide us feedback at https://github.com/pandas-dev/pandas/issues/54466\n",
      "        \n",
      "  import pandas as pd\n"
     ]
    },
    {
     "ename": "ImportError",
     "evalue": "cannot import name 'sport_peak_curve' from 'analyse_fit_files.parse_fit_file' (/Users/kevin/repos/analyse-fit-files/env/lib/python3.9/site-packages/analyse_fit_files/parse_fit_file.py)",
     "output_type": "error",
     "traceback": [
      "\u001b[0;31m---------------------------------------------------------------------------\u001b[0m",
      "\u001b[0;31mImportError\u001b[0m                               Traceback (most recent call last)",
      "Cell \u001b[0;32mIn[1], line 7\u001b[0m\n\u001b[1;32m      3\u001b[0m \u001b[38;5;28;01mimport\u001b[39;00m \u001b[38;5;21;01mmatplotlib\u001b[39;00m\u001b[38;5;21;01m.\u001b[39;00m\u001b[38;5;21;01mpyplot\u001b[39;00m \u001b[38;5;28;01mas\u001b[39;00m \u001b[38;5;21;01mplt\u001b[39;00m\n\u001b[1;32m      5\u001b[0m \u001b[38;5;28;01mfrom\u001b[39;00m \u001b[38;5;21;01mtqdm\u001b[39;00m \u001b[38;5;28;01mimport\u001b[39;00m tqdm\n\u001b[0;32m----> 7\u001b[0m \u001b[38;5;28;01mfrom\u001b[39;00m \u001b[38;5;21;01manalyse_fit_files\u001b[39;00m\u001b[38;5;21;01m.\u001b[39;00m\u001b[38;5;21;01mparse_fit_file\u001b[39;00m \u001b[38;5;28;01mimport\u001b[39;00m get_fit_file_data, sport_peak_curve\n\u001b[1;32m      8\u001b[0m \u001b[38;5;28;01mfrom\u001b[39;00m \u001b[38;5;21;01manalyse_fit_files\u001b[39;00m\u001b[38;5;21;01m.\u001b[39;00m\u001b[38;5;21;01mvisualize_fit_files\u001b[39;00m \u001b[38;5;28;01mimport\u001b[39;00m plot_sport_peak_curve\n",
      "\u001b[0;31mImportError\u001b[0m: cannot import name 'sport_peak_curve' from 'analyse_fit_files.parse_fit_file' (/Users/kevin/repos/analyse-fit-files/env/lib/python3.9/site-packages/analyse_fit_files/parse_fit_file.py)"
     ]
    }
   ],
   "source": [
    "import pandas as pd\n",
    "import numpy as np\n",
    "import matplotlib.pyplot as plt\n",
    "\n",
    "from tqdm import tqdm\n",
    "\n",
    "from analyse_fit_files.parse_fit_file import get_fit_file_data, sport_peak_curve\n",
    "from analyse_fit_files.visualize_fit_files import plot_sport_peak_curve"
   ]
  },
  {
   "cell_type": "code",
   "execution_count": null,
   "metadata": {},
   "outputs": [],
   "source": [
    "ride = get_fit_file_data(\n",
    "    \"/Users/kevin/repos/analyse-fit-files/data/Zwift_-_Going_Coastal_in_Watopia.fit\"\n",
    ")\n",
    "cycling = sport_peak_curve(fit_file_dataframe=ride, sport=\"cycling\")"
   ]
  },
  {
   "cell_type": "code",
   "execution_count": null,
   "metadata": {},
   "outputs": [],
   "source": [
    "pace = get_fit_file_data(\n",
    "    \"/Users/kevin/repos/analyse-fit-files/data/Morning_Run_2024_04_04.fit\"\n",
    ")\n",
    "speed = sport_peak_curve(fit_file_dataframe=pace, sport=\"running\")\n",
    "\n",
    "secondary = False\n",
    "if secondary:\n",
    "    pace1 = get_fit_file_data(\n",
    "        \"/Users/kevin/repos/analyse-fit-files/data/Morning_Run_2024_01_25.fit\"\n",
    "    )\n",
    "    speed1 = sport_peak_curve(fit_file_dataframe=pace1, sport=\"running\")"
   ]
  },
  {
   "cell_type": "code",
   "execution_count": null,
   "metadata": {},
   "outputs": [],
   "source": [
    "plot_sport_peak_curve(primary_fitfile_dataframe=ride, primary_sport_peak_curve=cycling, secondary_fitfile_dataframe=None, secondary_sport_peak_curve=None, sport=\"cycling\")"
   ]
  },
  {
   "cell_type": "code",
   "execution_count": null,
   "metadata": {},
   "outputs": [],
   "source": []
  }
 ],
 "metadata": {
  "kernelspec": {
   "display_name": "Python 3.7.3 ('env': venv)",
   "language": "python",
   "name": "python3"
  },
  "language_info": {
   "codemirror_mode": {
    "name": "ipython",
    "version": 3
   },
   "file_extension": ".py",
   "mimetype": "text/x-python",
   "name": "python",
   "nbconvert_exporter": "python",
   "pygments_lexer": "ipython3",
   "version": "3.9.6"
  },
  "orig_nbformat": 4,
  "vscode": {
   "interpreter": {
    "hash": "b1aee2bcd3fab90d89ce093a4ccc19582af554f39aaabad44849be71cd216161"
   }
  }
 },
 "nbformat": 4,
 "nbformat_minor": 2
}
